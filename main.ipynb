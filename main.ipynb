{
 "cells": [
  {
   "metadata": {},
   "cell_type": "code",
   "source": [
    "import pandas as pd\n",
    "\n",
    "df = pd.read_csv('data/data.csv', delimiter=';', decimal=\",\")\n",
    "\n",
    "# Преобразование строки в periodStartDate и periodEndDate\n",
    "df[\"periodStartDate\"] = pd.to_datetime(df[\"periodStartDate\"], format=\"%d.%m.%Y %H:%M\")\n",
    "df[\"periodEndDate\"] = pd.to_datetime(df[\"periodEndDate\"], format=\"%d.%m.%Y %H:%M\")\n",
    "# Преобразование periodDuration в секунды\n",
    "df[\"periodDuration\"] = pd.to_timedelta(df[\"periodDuration\"]).dt.total_seconds()\n",
    "\n",
    "df"
   ],
   "id": "fbc121e30a2defb3",
   "outputs": [],
   "execution_count": null
  },
  {
   "metadata": {},
   "cell_type": "code",
   "source": [
    "import matplotlib.pyplot as plt\n",
    "import seaborn as sns\n",
    "\n",
    "# Выбираем числовые столбцы\n",
    "numeric_cols = df.select_dtypes(include=['float64', 'int64']).columns.tolist()\n",
    "\n",
    "# Создаем сетку графиков\n",
    "fig, axes = plt.subplots(nrows=len(numeric_cols), ncols=1,\n",
    "                        figsize=(12, 5 * len(numeric_cols)))\n",
    "\n",
    "for i, col in enumerate(numeric_cols):\n",
    "    # Линейный график\n",
    "    sns.lineplot(data=df, x=df.index, y=col, ax=axes[i], color='blue', label='Значения')\n",
    "\n",
    "    # Линия среднего значения\n",
    "    mean_val = df[col].mean()\n",
    "    axes[i].axhline(mean_val, color='red', linestyle='--',\n",
    "                   label=f'Среднее: {mean_val:.2f}')\n",
    "\n",
    "    # Настройки графика\n",
    "    axes[i].set_title(f'Тренд параметра: {col}', fontsize=12)\n",
    "    axes[i].set_ylabel(col)\n",
    "    axes[i].legend(loc='upper right')\n",
    "    axes[i].grid(True, alpha=0.3)\n",
    "\n",
    "# Общая подпись для оси X\n",
    "axes[-1].set_xlabel('Номер наблюдения', fontsize=12)\n",
    "\n",
    "plt.tight_layout()\n",
    "plt.show()"
   ],
   "id": "88d621025f6dcaf1",
   "outputs": [],
   "execution_count": null
  }
 ],
 "metadata": {
  "kernelspec": {
   "display_name": "Python 3",
   "language": "python",
   "name": "python3"
  },
  "language_info": {
   "codemirror_mode": {
    "name": "ipython",
    "version": 2
   },
   "file_extension": ".py",
   "mimetype": "text/x-python",
   "name": "python",
   "nbconvert_exporter": "python",
   "pygments_lexer": "ipython2",
   "version": "2.7.6"
  }
 },
 "nbformat": 4,
 "nbformat_minor": 5
}
